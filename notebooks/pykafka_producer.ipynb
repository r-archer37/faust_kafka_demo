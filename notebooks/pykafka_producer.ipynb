{
 "cells": [
  {
   "cell_type": "markdown",
   "metadata": {},
   "source": [
    "This notebook uses the `pykafka` python package for interacting with Kafka, rather than Faust. This is because it interacts with Kafka at a much lower level. It's better for interactive demonstration of Kafka, but will take much more effort to build a full application around."
   ]
  },
  {
   "cell_type": "code",
   "execution_count": 1,
   "metadata": {},
   "outputs": [],
   "source": [
    "from pykafka import KafkaClient\n",
    "import pykafka\n",
    "\n",
    "from helpers.kafka_helpers import get_topic, produce_to_topic\n",
    "\n",
    "KAFKA_ADDRESS = 'kafka:9092'\n",
    "\n",
    "kafka_client = KafkaClient(KAFKA_ADDRESS)\n",
    "\n",
    "assert all([broker.connected for broker in kafka_client.brokers.values()])"
   ]
  },
  {
   "cell_type": "code",
   "execution_count": 2,
   "metadata": {},
   "outputs": [],
   "source": [
    "topic = get_topic(topic_name='example_kafka_topic',  # creates a new topic if it doesn't already exist\n",
    "                  client=kafka_client)"
   ]
  },
  {
   "cell_type": "code",
   "execution_count": 3,
   "metadata": {},
   "outputs": [],
   "source": [
    "produce_to_topic(topic=topic,  # topic must already exist\n",
    "                 message='hello')"
   ]
  },
  {
   "cell_type": "code",
   "execution_count": 7,
   "metadata": {},
   "outputs": [],
   "source": [
    "# Produce messages in a loop.\n",
    "# This code is fairly slow because produce_to_topic() creates\n",
    "# and then removes a producer for each message sent.\n",
    "for i in range(0, 10):\n",
    "    produce_to_topic(topic=topic, \n",
    "                     message=f'This is message number {i+1}')"
   ]
  },
  {
   "cell_type": "code",
   "execution_count": 4,
   "metadata": {},
   "outputs": [],
   "source": [
    "topic2 = get_topic(topic_name='example_kafka_topic2', \n",
    "                   client=kafka_client)"
   ]
  },
  {
   "cell_type": "code",
   "execution_count": 5,
   "metadata": {},
   "outputs": [],
   "source": [
    "produce_to_topic(topic=topic2, \n",
    "                 message='hello from topic2')"
   ]
  },
  {
   "cell_type": "code",
   "execution_count": null,
   "metadata": {},
   "outputs": [],
   "source": []
  }
 ],
 "metadata": {
  "kernelspec": {
   "display_name": "Python 3",
   "language": "python",
   "name": "python3"
  },
  "language_info": {
   "codemirror_mode": {
    "name": "ipython",
    "version": 3
   },
   "file_extension": ".py",
   "mimetype": "text/x-python",
   "name": "python",
   "nbconvert_exporter": "python",
   "pygments_lexer": "ipython3",
   "version": "3.8.6"
  }
 },
 "nbformat": 4,
 "nbformat_minor": 4
}
